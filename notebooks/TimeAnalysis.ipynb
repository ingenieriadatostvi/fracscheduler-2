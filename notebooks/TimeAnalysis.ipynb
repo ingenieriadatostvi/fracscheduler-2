{
 "cells": [
  {
   "cell_type": "markdown",
   "id": "c839eecd",
   "metadata": {},
   "source": [
    "# Análisis Conjunto Semanas NO-FRACTIONAL\n"
   ]
  },
  {
   "cell_type": "code",
   "execution_count": 10,
   "id": "9fcc194c",
   "metadata": {},
   "outputs": [
    {
     "ename": "ImportError",
     "evalue": "cannot import name 'easter_saturday' from 'utils' (c:\\Users\\Rodrigo Esquivel\\OneDrive - TERRA VITAL\\Rodrigo Esquivel\\Documentos\\CODIGO\\SEASCAPE\\Calendario Fracciones\\calendar_app\\utils.py)",
     "output_type": "error",
     "traceback": [
      "\u001b[1;31m---------------------------------------------------------------------------\u001b[0m",
      "\u001b[1;31mImportError\u001b[0m                               Traceback (most recent call last)",
      "Cell \u001b[1;32mIn[10], line 5\u001b[0m\n\u001b[0;32m      3\u001b[0m sys\u001b[38;5;241m.\u001b[39mpath\u001b[38;5;241m.\u001b[39mappend(os\u001b[38;5;241m.\u001b[39mpath\u001b[38;5;241m.\u001b[39mabspath(\u001b[38;5;124m'\u001b[39m\u001b[38;5;124m..\u001b[39m\u001b[38;5;124m'\u001b[39m))\n\u001b[0;32m      4\u001b[0m \u001b[38;5;28;01mfrom\u001b[39;00m \u001b[38;5;21;01mdatetime\u001b[39;00m \u001b[38;5;28;01mimport\u001b[39;00m datetime\n\u001b[1;32m----> 5\u001b[0m \u001b[38;5;28;01mfrom\u001b[39;00m \u001b[38;5;21;01mutils\u001b[39;00m \u001b[38;5;28;01mimport\u001b[39;00m (\n\u001b[0;32m      6\u001b[0m     extra_week_indicator,\n\u001b[0;32m      7\u001b[0m     main_day_weeker,\n\u001b[0;32m      8\u001b[0m     new_year,\n\u001b[0;32m      9\u001b[0m     easter_saturday,\n\u001b[0;32m     10\u001b[0m     sabado_santo,\n\u001b[0;32m     11\u001b[0m     work_day,\n\u001b[0;32m     12\u001b[0m     independence_day,\n\u001b[0;32m     13\u001b[0m     constitution_day,\n\u001b[0;32m     14\u001b[0m     benito_juarez_birthday,\n\u001b[0;32m     15\u001b[0m     mexican_revolution_day\n\u001b[0;32m     16\u001b[0m )\n",
      "\u001b[1;31mImportError\u001b[0m: cannot import name 'easter_saturday' from 'utils' (c:\\Users\\Rodrigo Esquivel\\OneDrive - TERRA VITAL\\Rodrigo Esquivel\\Documentos\\CODIGO\\SEASCAPE\\Calendario Fracciones\\calendar_app\\utils.py)"
     ]
    }
   ],
   "source": [
    "import sys\n",
    "import os\n",
    "sys.path.append(os.path.abspath('..'))\n",
    "from datetime import datetime\n",
    "from utils import (\n",
    "    extra_week_indicator,\n",
    "    main_day_weeker,\n",
    "    new_year,\n",
    "    easter_saturday,\n",
    "    sabado_santo,\n",
    "    work_day,\n",
    "    independence_day,\n",
    "    constitution_day,\n",
    "    benito_juarez_birthday,\n",
    "    mexican_revolution_day\n",
    ")"
   ]
  },
  {
   "cell_type": "code",
   "execution_count": null,
   "id": "dbc6348c",
   "metadata": {},
   "outputs": [],
   "source": [
    "week_days_dic = {\n",
    "    1: \"Martes\",\n",
    "    2: \"Miercoles\",\n",
    "    3: \"Jueves\"\n",
    "    }"
   ]
  },
  {
   "cell_type": "markdown",
   "id": "bce58bf5",
   "metadata": {},
   "source": [
    "¿Qué número de semana del año cae semana santa?"
   ]
  },
  {
   "cell_type": "code",
   "execution_count": null,
   "id": "bc9b9646",
   "metadata": {},
   "outputs": [
    {
     "name": "stdout",
     "output_type": "stream",
     "text": [
      "Año |   Martes   | Miercoles  |   Jueves  \n",
      "------------------------------------------\n",
      "2024 |     0      |     0      |     0     \n",
      "2025 |     0      |     0      |     0     \n",
      "2026 |     0      |     0      |     0     \n",
      "2027 |     0      |     0      |     0     \n",
      "2028 |     0      |     0      |     0     \n",
      "2029 |     0      |     0      |     0     \n",
      "2030 |     0      |     0      |     0     \n",
      "2031 |     0      |     0      |     0     \n",
      "2032 |     0      |     0      |     0     \n",
      "2033 |     0      |     0      |     0     \n",
      "2034 |     0      |     0      |     0     \n",
      "2035 |     0      |     0      |     0     \n",
      "2036 |     0      |     0      |     0     \n",
      "2037 |     0      |     0      |     0     \n",
      "2038 |     0      |     0      |     0     \n",
      "2039 |     0      |     0      |     0     \n",
      "2040 |     0      |     0      |     0     \n",
      "2041 |     0      |     0      |     0     \n",
      "2042 |     0      |     0      |     0     \n",
      "2043 |     0      |     0      |     0     \n",
      "2044 |     0      |     0      |     0     \n",
      "2045 |     0      |     0      |     0     \n",
      "2046 |     0      |     0      |     0     \n",
      "2047 |     0      |     0      |     0     \n",
      "2048 |     0      |     0      |     0     \n",
      "2049 |     0      |     0      |     0     \n",
      "2050 |     0      |     0      |     0     \n"
     ]
    }
   ],
   "source": [
    "resultados = {\n",
    "    1: [],\n",
    "    2: [], \n",
    "    3: []\n",
    "    }\n",
    "\n",
    "for year in range(2024, 2051):\n",
    "    for i in range(1, 4):\n",
    "        calendar = main_day_weeker(year, i)\n",
    "        fecha = new_year(year)\n",
    "        semana = calendar[fecha]\n",
    "        resultados[i].append(str(semana[0]))\n",
    "\n",
    "encabezado = \"Año | \" + \" | \".join(f\"{week_days_dic[i]:^10}\" for i in range(1, 4))\n",
    "print(encabezado)\n",
    "print(\"-\" * len(encabezado))\n",
    "\n",
    "for idx, year in enumerate(range(2024, 2051)):\n",
    "    fila = f\"{year} | \" + \" | \".join(f\"{resultados[i][idx]:^10}\" for i in range(1, 4))\n",
    "    print(fila)"
   ]
  },
  {
   "cell_type": "markdown",
   "id": "5095e1bd",
   "metadata": {},
   "source": [
    "Las siguientes funciones calculan algunos puentes festivos en México."
   ]
  },
  {
   "cell_type": "code",
   "execution_count": null,
   "id": "cd7981e6",
   "metadata": {},
   "outputs": [],
   "source": []
  },
  {
   "cell_type": "markdown",
   "id": "c1813ab0",
   "metadata": {},
   "source": []
  },
  {
   "cell_type": "code",
   "execution_count": null,
   "id": "d71fc838",
   "metadata": {},
   "outputs": [],
   "source": []
  },
  {
   "cell_type": "markdown",
   "id": "933b5ffa",
   "metadata": {},
   "source": [
    "Veamos, por día de entrada, en que años hay una semana extra:"
   ]
  },
  {
   "cell_type": "code",
   "execution_count": null,
   "id": "a5e68cde",
   "metadata": {},
   "outputs": [
    {
     "name": "stdout",
     "output_type": "stream",
     "text": [
      "Dia de entrada - Año con semana extra\n",
      "Martes         -         2029\n",
      "Martes         -         2035\n",
      "Martes         -         2040\n",
      "Martes         -         2046\n",
      "Miercoles      -         2030\n",
      "Miercoles      -         2036\n",
      "Miercoles      -         2041\n",
      "Miercoles      -         2047\n",
      "Jueves         -         2031\n",
      "Jueves         -         2036\n",
      "Jueves         -         2042\n",
      "Jueves         -         2048\n"
     ]
    }
   ],
   "source": [
    "print(f'{\"Dia de entrada\"} - {\"Año con semana extra\"}')\n",
    "for day in range(1,4):\n",
    "    for i in range(2026,2051):\n",
    "        if extra_week_indicator(i,day):\n",
    "            print(f'{week_days_dic[day]:<14} - {i:>12}')"
   ]
  },
  {
   "cell_type": "markdown",
   "id": "571027cb",
   "metadata": {},
   "source": []
  }
 ],
 "metadata": {
  "kernelspec": {
   "display_name": "base",
   "language": "python",
   "name": "python3"
  },
  "language_info": {
   "codemirror_mode": {
    "name": "ipython",
    "version": 3
   },
   "file_extension": ".py",
   "mimetype": "text/x-python",
   "name": "python",
   "nbconvert_exporter": "python",
   "pygments_lexer": "ipython3",
   "version": "3.11.5"
  }
 },
 "nbformat": 4,
 "nbformat_minor": 5
}
