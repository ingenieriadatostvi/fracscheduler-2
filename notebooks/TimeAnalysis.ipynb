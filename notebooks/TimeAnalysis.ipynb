{
 "cells": [
  {
   "cell_type": "markdown",
   "id": "c839eecd",
   "metadata": {},
   "source": [
    "# Análisis Conjunto Semanas NO-FRACTIONAL\n"
   ]
  },
  {
   "cell_type": "code",
   "execution_count": 26,
   "id": "9fcc194c",
   "metadata": {},
   "outputs": [],
   "source": [
    "import sys\n",
    "import os\n",
    "sys.path.append(os.path.abspath('..'))\n",
    "from datetime import datetime\n",
    "from utils import (\n",
    "    extra_week_indicator,\n",
    "    main_day_weeker,\n",
    "    new_year,\n",
    "    christmas,\n",
    "    valentines_day,\n",
    "    mothers_day,\n",
    "    easter_saturday,\n",
    "    sabado_santo,\n",
    "    work_day,\n",
    "    independence_day,\n",
    "    constitution_day,\n",
    "    benito_juarez_birthday,\n",
    "    mexican_revolution_day,\n",
    "    maintenance_weeks_paths\n",
    ")"
   ]
  },
  {
   "cell_type": "code",
   "execution_count": 27,
   "id": "dbc6348c",
   "metadata": {},
   "outputs": [],
   "source": [
    "week_days_dic = {\n",
    "    1: \"Martes\",\n",
    "    2: \"Miercoles\",\n",
    "    3: \"Jueves\"\n",
    "    }"
   ]
  },
  {
   "cell_type": "code",
   "execution_count": 28,
   "id": "9b60053c",
   "metadata": {},
   "outputs": [
    {
     "name": "stdout",
     "output_type": "stream",
     "text": [
      "[[0], [5], [11], [46], [14], [13], [52]]\n"
     ]
    }
   ],
   "source": [
    "def regular_unfractional_weeks(current_year,weekday_calendar_starts):\n",
    "    \"\"\"\n",
    "    \"\"\"\n",
    "    newyear = new_year(current_year)\n",
    "    constitution = constitution_day(current_year)\n",
    "    benito = benito_juarez_birthday(current_year)\n",
    "    revolution = mexican_revolution_day(current_year)\n",
    "    easter = easter_saturday(current_year)\n",
    "    semana_santa = sabado_santo(current_year)\n",
    "    christ = christmas(current_year)\n",
    "\n",
    "    special_dates = [newyear,constitution,benito,revolution,easter,semana_santa,christ]\n",
    "    calendar = main_day_weeker(current_year, weekday_calendar_starts)\n",
    "    week_index = []\n",
    "\n",
    "    for i in special_dates:\n",
    "        week = calendar[i]\n",
    "        week_index.append(week)\n",
    "    return week_index\n",
    "        \n",
    "print(regular_unfractional_weeks(2024,1))\n",
    "\n"
   ]
  },
  {
   "cell_type": "code",
   "execution_count": 29,
   "id": "0e06c66f",
   "metadata": {},
   "outputs": [
    {
     "name": "stdout",
     "output_type": "stream",
     "text": [
      "[[7], [19], [18], [37], [6], [18], [17], [36]]\n"
     ]
    }
   ],
   "source": [
    "def iregular_unfractional_weeks(current_year,weekday_calendar_starts):\n",
    "    \"\"\"\n",
    "    \"\"\"\n",
    "  \n",
    "    valentines = valentines_day(current_year)\n",
    "    mom = mothers_day(current_year)\n",
    "    work = work_day(current_year)\n",
    "    independence = independence_day(current_year)\n",
    "\n",
    "    special_dates = [valentines,mom,work,independence]\n",
    "    calendar = main_day_weeker(current_year, weekday_calendar_starts)\n",
    "    week_index = []\n",
    "\n",
    "    for i in special_dates:\n",
    "        week = calendar[i]\n",
    "        week_index.append(week)\n",
    "    \n",
    "    before_week_index = []\n",
    "    for k in week_index:\n",
    "        before_week_index.append([k[0] - 1])\n",
    "\n",
    "    return week_index + before_week_index\n",
    "        \n",
    "print(iregular_unfractional_weeks(2024,1))\n",
    "\n"
   ]
  },
  {
   "cell_type": "code",
   "execution_count": 30,
   "id": "5958e11b",
   "metadata": {},
   "outputs": [
    {
     "name": "stdout",
     "output_type": "stream",
     "text": [
      "[0, 4, 5, 6, 10, 13, 14, 16, 17, 18, 36, 37, 45, 51]\n"
     ]
    }
   ],
   "source": [
    "def gold_weeks(current_year, weekday_calendar_starts):\n",
    "\n",
    "    regular = regular_unfractional_weeks(current_year, weekday_calendar_starts)\n",
    "    irregular = iregular_unfractional_weeks(current_year, weekday_calendar_starts)\n",
    "\n",
    "    gold = []\n",
    "\n",
    "    for i in regular + irregular:\n",
    "        if i not in gold:\n",
    "            gold.append(i)\n",
    "\n",
    "\n",
    "\n",
    "    gold_num = [k[0] for k in gold]\n",
    "    gold_num.sort()\n",
    "    gold = [[k] for k in gold_num]\n",
    "\n",
    "    return gold\n",
    "\n",
    "    \n",
    "\n",
    "\n",
    "print([k[0] for k in gold_weeks(2021,3)])\n"
   ]
  },
  {
   "cell_type": "code",
   "execution_count": 57,
   "id": "45625d83",
   "metadata": {},
   "outputs": [],
   "source": [
    "\n",
    "fractions_quantity = 8\n",
    "weeks_expected_per_year = 365//7\n",
    "\n",
    "def maintenance_weeks_maker(current_year, weekday_calendar_starts, maintenance_path):\n",
    "    \"\"\"\n",
    "    Select week indices for maintenance based on a path and the year characteristics.\n",
    "    \"\"\"\n",
    "    weeks_per_fraction = weeks_expected_per_year // fractions_quantity\n",
    "    reserved_weeks = weeks_expected_per_year - fractions_quantity * weeks_per_fraction\n",
    "    maintenance_deserved_weeks = maintenance_weeks_paths(current_year, weekday_calendar_starts)\n",
    "    lenght = len(maintenance_deserved_weeks.values()) // 7 // reserved_weeks\n",
    "    matching_keys = [k for (k,v) in maintenance_deserved_weeks.items() if v[0] == maintenance_path % lenght]\n",
    "\n",
    "    calendar = main_day_weeker(current_year,weekday_calendar_starts)\n",
    "\n",
    "    dirty_list = []\n",
    "    for i in matching_keys:\n",
    "        dirty_list.append(calendar[i])\n",
    "\n",
    "    maintenance_weeks = []\n",
    "    for r in dirty_list:\n",
    "        if r not in maintenance_weeks:\n",
    "            maintenance_weeks.append(r)\n",
    "        \n",
    "    return maintenance_weeks"
   ]
  },
  {
   "cell_type": "code",
   "execution_count": 61,
   "id": "3665bfda",
   "metadata": {},
   "outputs": [
    {
     "name": "stdout",
     "output_type": "stream",
     "text": [
      "[[4], [23], [32], [43]]\n"
     ]
    }
   ],
   "source": [
    "print(maintenance_weeks_maker(2035,2, 12))"
   ]
  },
  {
   "cell_type": "markdown",
   "id": "bce58bf5",
   "metadata": {},
   "source": [
    "¿Qué número de semana del año cae semana santa?"
   ]
  },
  {
   "cell_type": "code",
   "execution_count": 11,
   "id": "bc9b9646",
   "metadata": {},
   "outputs": [
    {
     "name": "stdout",
     "output_type": "stream",
     "text": [
      "Año |   Martes   | Miercoles  |   Jueves  \n",
      "------------------------------------------\n",
      "2026 |     0      |     0      |     0     \n",
      "2027 |     4      |     4      |     4     \n",
      "2028 |     5      |     5      |     5     \n",
      "2029 |     6      |     6      |     6     \n",
      "2030 |     10     |     10     |     10    \n",
      "2031 |     13     |     13     |     13    \n",
      "2032 |     14     |     14     |     14    \n",
      "2033 |     16     |     16     |     16    \n",
      "2034 |     17     |     17     |     17    \n",
      "2035 |     18     |     18     |     18    \n",
      "2036 |     36     |     36     |     35    \n",
      "2037 |     37     |     37     |     36    \n",
      "2038 |     45     |     45     |     45    \n",
      "2039 |     51     |     51     |     51    \n",
      "2040 |     0      |     0      |     0     \n",
      "2041 |     4      |     4      |     4     \n",
      "2042 |     5      |     5      |     5     \n",
      "2043 |     6      |     6      |     6     \n",
      "2044 |     10     |     10     |     10    \n",
      "2045 |     12     |     12     |     12    \n",
      "2046 |     13     |     13     |     13    \n",
      "2047 |     16     |     16     |     16    \n",
      "2048 |     17     |     17     |     17    \n",
      "2049 |     18     |     18     |     18    \n",
      "2050 |     36     |     36     |     36    \n"
     ]
    }
   ],
   "source": [
    "# Inicializa resultados fuera de la función\n",
    "resultados = {\n",
    "    1: [],\n",
    "    2: [], \n",
    "    3: []\n",
    "}\n",
    "\n",
    "for year in range(2026, 2051):\n",
    "    for i in range(1, 4):\n",
    "        weeks = gold_weeks(year, i)\n",
    "        weeks_num = [k[0] for k in weeks]\n",
    "        for k in weeks_num:\n",
    "            resultados[i].append(k)\n",
    "\n",
    "# Asumiendo que week_days_dic está definido, si no, añade esto:\n",
    "# week_days_dic = {1: \"Lunes\", 2: \"Martes\", 3: \"Miércoles\"}\n",
    "\n",
    "encabezado = \"Año | \" + \" | \".join(f\"{week_days_dic[i]:^10}\" for i in range(1, 4))\n",
    "print(encabezado)\n",
    "print(\"-\" * len(encabezado))\n",
    "\n",
    "for idx, year in enumerate(range(2026, 2051)):\n",
    "    fila = f\"{year} | \" + \" | \".join(f\"{resultados[i][idx]:^10}\" for i in range(1, 4))\n",
    "    print(fila)"
   ]
  },
  {
   "cell_type": "markdown",
   "id": "5095e1bd",
   "metadata": {},
   "source": [
    "Las siguientes funciones calculan algunos puentes festivos en México."
   ]
  },
  {
   "cell_type": "code",
   "execution_count": null,
   "id": "cd7981e6",
   "metadata": {},
   "outputs": [],
   "source": []
  },
  {
   "cell_type": "markdown",
   "id": "c1813ab0",
   "metadata": {},
   "source": []
  },
  {
   "cell_type": "code",
   "execution_count": null,
   "id": "d71fc838",
   "metadata": {},
   "outputs": [],
   "source": []
  },
  {
   "cell_type": "markdown",
   "id": "933b5ffa",
   "metadata": {},
   "source": [
    "Veamos, por día de entrada, en que años hay una semana extra:"
   ]
  },
  {
   "cell_type": "code",
   "execution_count": 12,
   "id": "a5e68cde",
   "metadata": {},
   "outputs": [
    {
     "name": "stdout",
     "output_type": "stream",
     "text": [
      "Dia de entrada - Año con semana extra\n",
      "Martes         -         2029\n",
      "Martes         -         2035\n",
      "Martes         -         2040\n",
      "Martes         -         2046\n",
      "Miercoles      -         2030\n",
      "Miercoles      -         2036\n",
      "Miercoles      -         2041\n",
      "Miercoles      -         2047\n",
      "Jueves         -         2031\n",
      "Jueves         -         2036\n",
      "Jueves         -         2042\n",
      "Jueves         -         2048\n"
     ]
    }
   ],
   "source": [
    "print(f'{\"Dia de entrada\"} - {\"Año con semana extra\"}')\n",
    "for day in range(1,4):\n",
    "    for i in range(2026,2051):\n",
    "        if extra_week_indicator(i,day):\n",
    "            print(f'{week_days_dic[day]:<14} - {i:>12}')"
   ]
  },
  {
   "cell_type": "markdown",
   "id": "571027cb",
   "metadata": {},
   "source": []
  }
 ],
 "metadata": {
  "kernelspec": {
   "display_name": "base",
   "language": "python",
   "name": "python3"
  },
  "language_info": {
   "codemirror_mode": {
    "name": "ipython",
    "version": 3
   },
   "file_extension": ".py",
   "mimetype": "text/x-python",
   "name": "python",
   "nbconvert_exporter": "python",
   "pygments_lexer": "ipython3",
   "version": "3.11.5"
  }
 },
 "nbformat": 4,
 "nbformat_minor": 5
}
