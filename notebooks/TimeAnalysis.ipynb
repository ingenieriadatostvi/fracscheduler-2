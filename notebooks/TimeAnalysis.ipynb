{
 "cells": [
  {
   "cell_type": "markdown",
   "id": "c839eecd",
   "metadata": {},
   "source": [
    "# Análisis Temporal\n"
   ]
  },
  {
   "cell_type": "code",
   "execution_count": 10,
   "id": "9fcc194c",
   "metadata": {},
   "outputs": [],
   "source": [
    "import sys\n",
    "import os\n",
    "sys.path.append(os.path.abspath('..'))\n",
    "from utils import extra_week_indicator"
   ]
  },
  {
   "cell_type": "markdown",
   "id": "933b5ffa",
   "metadata": {},
   "source": [
    "Primero veamos, por día de entrada, en que años hay una semana extra:"
   ]
  },
  {
   "cell_type": "code",
   "execution_count": 37,
   "id": "a5e68cde",
   "metadata": {},
   "outputs": [
    {
     "name": "stdout",
     "output_type": "stream",
     "text": [
      "Dia de entrada - Año con semana extra\n",
      "Martes         -            2029\n",
      "Martes         -            2035\n",
      "Martes         -            2040\n",
      "Martes         -            2046\n",
      "Miercoles      -            2030\n",
      "Miercoles      -            2036\n",
      "Miercoles      -            2041\n",
      "Miercoles      -            2047\n",
      "Jueves         -            2031\n",
      "Jueves         -            2036\n",
      "Jueves         -            2042\n",
      "Jueves         -            2048\n"
     ]
    }
   ],
   "source": [
    "week_days = {\n",
    "    1: \"Martes\",\n",
    "    2: \"Miercoles\",\n",
    "    3: \"Jueves\"\n",
    "}\n",
    "print(f'{\"Dia de entrada\"} - {\"Año con semana extra\"}')\n",
    "for day in range(1,4):\n",
    "    for i in range(2026,2051):\n",
    "        if extra_week_indicator(i,day):\n",
    "            print(f'{week_days[day]:<14} - {i:>15}')"
   ]
  },
  {
   "cell_type": "markdown",
   "id": "66b2810e",
   "metadata": {},
   "source": []
  },
  {
   "cell_type": "code",
   "execution_count": null,
   "id": "8012013b",
   "metadata": {},
   "outputs": [],
   "source": []
  },
  {
   "cell_type": "code",
   "execution_count": null,
   "id": "a8155e01",
   "metadata": {},
   "outputs": [],
   "source": []
  },
  {
   "cell_type": "code",
   "execution_count": null,
   "id": "50b77029",
   "metadata": {},
   "outputs": [],
   "source": []
  },
  {
   "cell_type": "code",
   "execution_count": null,
   "id": "d728dd10",
   "metadata": {},
   "outputs": [],
   "source": []
  },
  {
   "cell_type": "code",
   "execution_count": null,
   "id": "9738109c",
   "metadata": {},
   "outputs": [],
   "source": []
  },
  {
   "cell_type": "code",
   "execution_count": null,
   "id": "66217230",
   "metadata": {},
   "outputs": [],
   "source": []
  }
 ],
 "metadata": {
  "kernelspec": {
   "display_name": "base",
   "language": "python",
   "name": "python3"
  },
  "language_info": {
   "codemirror_mode": {
    "name": "ipython",
    "version": 3
   },
   "file_extension": ".py",
   "mimetype": "text/x-python",
   "name": "python",
   "nbconvert_exporter": "python",
   "pygments_lexer": "ipython3",
   "version": "3.11.5"
  }
 },
 "nbformat": 4,
 "nbformat_minor": 5
}
