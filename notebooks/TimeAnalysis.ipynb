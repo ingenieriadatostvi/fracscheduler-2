{
 "cells": [
  {
   "cell_type": "markdown",
   "id": "c839eecd",
   "metadata": {},
   "source": [
    "# Análisis Conjunto Semanas NO-FRACTIONAL\n"
   ]
  },
  {
   "cell_type": "code",
   "execution_count": 1,
   "id": "9fcc194c",
   "metadata": {},
   "outputs": [],
   "source": [
    "import sys\n",
    "import os\n",
    "sys.path.append(os.path.abspath('..'))\n",
    "from datetime import datetime\n",
    "from utils import (\n",
    "    extra_week_indicator,\n",
    "    main_day_weeker,\n",
    "    new_year,\n",
    "    christmas,\n",
    "    valentines_day,\n",
    "    mothers_day,\n",
    "    easter_saturday,\n",
    "    sabado_santo,\n",
    "    work_day,\n",
    "    independence_day,\n",
    "    constitution_day,\n",
    "    benito_juarez_birthday,\n",
    "    mexican_revolution_day\n",
    ")"
   ]
  },
  {
   "cell_type": "code",
   "execution_count": 2,
   "id": "dbc6348c",
   "metadata": {},
   "outputs": [],
   "source": [
    "week_days_dic = {\n",
    "    1: \"Martes\",\n",
    "    2: \"Miercoles\",\n",
    "    3: \"Jueves\"\n",
    "    }"
   ]
  },
  {
   "cell_type": "code",
   "execution_count": 3,
   "id": "9b60053c",
   "metadata": {},
   "outputs": [
    {
     "name": "stdout",
     "output_type": "stream",
     "text": [
      "[[0], [5], [11], [46], [17], [16], [52]]\n"
     ]
    }
   ],
   "source": [
    "def regular_unfractional_weeks(current_year,weekday_calendar_starts):\n",
    "    \"\"\"\n",
    "    \"\"\"\n",
    "    newyear = new_year(current_year)\n",
    "    constitution = constitution_day(current_year)\n",
    "    benito = benito_juarez_birthday(current_year)\n",
    "    revolution = mexican_revolution_day(current_year)\n",
    "    easter = easter_saturday(current_year)\n",
    "    semana_santa = sabado_santo(current_year)\n",
    "    christ = christmas(current_year)\n",
    "\n",
    "    special_dates = [newyear,constitution,benito,revolution,easter,semana_santa,christ]\n",
    "    calendar = main_day_weeker(current_year, weekday_calendar_starts)\n",
    "    week_index = []\n",
    "\n",
    "    for i in special_dates:\n",
    "        week = calendar[i]\n",
    "        week_index.append(week)\n",
    "    return week_index\n",
    "        \n",
    "print(regular_unfractional_weeks(2025,3))\n",
    "\n"
   ]
  },
  {
   "cell_type": "code",
   "execution_count": null,
   "id": "0e06c66f",
   "metadata": {},
   "outputs": [
    {
     "data": {
      "text/plain": [
       "<function utils.independence_day(current_year)>"
      ]
     },
     "execution_count": 4,
     "metadata": {},
     "output_type": "execute_result"
    }
   ],
   "source": [
    "def iregular_unfractional_weeks(current_year,weekday_calendar_starts):\n",
    "    \"\"\"\n",
    "    \"\"\"\n",
    "  \n",
    "    valentines = valentines_day(current_year)\n",
    "    mom = mothers_day(current_year)\n",
    "    work = work_day(current_year)\n",
    "    independence = independence_day(current_year)\n",
    "\n",
    "    special_dates = [valentines,mom,work,independence]\n",
    "    calendar = main_day_weeker(current_year, weekday_calendar_starts)\n",
    "    week_index = []\n",
    "\n",
    "    for i in special_dates:\n",
    "        week = calendar[i]\n",
    "        week_index.append(week)\n",
    "    return week_index\n",
    "        \n",
    "print(iregular_unfractional_weeks(2025,3))\n",
    "\n"
   ]
  },
  {
   "cell_type": "markdown",
   "id": "bce58bf5",
   "metadata": {},
   "source": [
    "¿Qué número de semana del año cae semana santa?"
   ]
  },
  {
   "cell_type": "code",
   "execution_count": 5,
   "id": "bc9b9646",
   "metadata": {},
   "outputs": [
    {
     "name": "stdout",
     "output_type": "stream",
     "text": [
      "Año |   Martes   | Miercoles  |   Jueves  \n",
      "------------------------------------------\n",
      "2024 |     7      |     7      |     6     \n",
      "2025 |     6      |     6      |     7     \n",
      "2026 |     6      |     6      |     6     \n",
      "2027 |     6      |     6      |     6     \n",
      "2028 |     6      |     6      |     6     \n",
      "2029 |     7      |     7      |     6     \n",
      "2030 |     6      |     7      |     7     \n",
      "2031 |     6      |     6      |     7     \n",
      "2032 |     6      |     6      |     6     \n",
      "2033 |     6      |     6      |     6     \n",
      "2034 |     7      |     6      |     6     \n",
      "2035 |     7      |     7      |     6     \n",
      "2036 |     6      |     7      |     7     \n",
      "2037 |     6      |     6      |     6     \n",
      "2038 |     6      |     6      |     6     \n",
      "2039 |     6      |     6      |     6     \n",
      "2040 |     7      |     6      |     6     \n",
      "2041 |     6      |     7      |     7     \n",
      "2042 |     6      |     6      |     7     \n",
      "2043 |     6      |     6      |     6     \n",
      "2044 |     6      |     6      |     6     \n",
      "2045 |     7      |     6      |     6     \n",
      "2046 |     7      |     7      |     6     \n",
      "2047 |     6      |     7      |     7     \n",
      "2048 |     6      |     6      |     7     \n",
      "2049 |     6      |     6      |     6     \n",
      "2050 |     6      |     6      |     6     \n"
     ]
    }
   ],
   "source": [
    "resultados = {\n",
    "    1: [],\n",
    "    2: [], \n",
    "    3: []\n",
    "    }\n",
    "\n",
    "for year in range(2024, 2051):\n",
    "    for i in range(1, 4):\n",
    "        calendar = main_day_weeker(year, i)\n",
    "        fecha = valentines_day(year)\n",
    "        semana = calendar[fecha]\n",
    "        resultados[i].append(str(semana[0]))\n",
    "\n",
    "encabezado = \"Año | \" + \" | \".join(f\"{week_days_dic[i]:^10}\" for i in range(1, 4))\n",
    "print(encabezado)\n",
    "print(\"-\" * len(encabezado))\n",
    "\n",
    "for idx, year in enumerate(range(2024, 2051)):\n",
    "    fila = f\"{year} | \" + \" | \".join(f\"{resultados[i][idx]:^10}\" for i in range(1, 4))\n",
    "    print(fila)"
   ]
  },
  {
   "cell_type": "markdown",
   "id": "5095e1bd",
   "metadata": {},
   "source": [
    "Las siguientes funciones calculan algunos puentes festivos en México."
   ]
  },
  {
   "cell_type": "code",
   "execution_count": null,
   "id": "cd7981e6",
   "metadata": {},
   "outputs": [],
   "source": []
  },
  {
   "cell_type": "markdown",
   "id": "c1813ab0",
   "metadata": {},
   "source": []
  },
  {
   "cell_type": "code",
   "execution_count": null,
   "id": "d71fc838",
   "metadata": {},
   "outputs": [],
   "source": []
  },
  {
   "cell_type": "markdown",
   "id": "933b5ffa",
   "metadata": {},
   "source": [
    "Veamos, por día de entrada, en que años hay una semana extra:"
   ]
  },
  {
   "cell_type": "code",
   "execution_count": 6,
   "id": "a5e68cde",
   "metadata": {},
   "outputs": [
    {
     "name": "stdout",
     "output_type": "stream",
     "text": [
      "Dia de entrada - Año con semana extra\n",
      "Martes         -         2029\n",
      "Martes         -         2035\n",
      "Martes         -         2040\n",
      "Martes         -         2046\n",
      "Miercoles      -         2030\n",
      "Miercoles      -         2036\n",
      "Miercoles      -         2041\n",
      "Miercoles      -         2047\n",
      "Jueves         -         2031\n",
      "Jueves         -         2036\n",
      "Jueves         -         2042\n",
      "Jueves         -         2048\n"
     ]
    }
   ],
   "source": [
    "print(f'{\"Dia de entrada\"} - {\"Año con semana extra\"}')\n",
    "for day in range(1,4):\n",
    "    for i in range(2026,2051):\n",
    "        if extra_week_indicator(i,day):\n",
    "            print(f'{week_days_dic[day]:<14} - {i:>12}')"
   ]
  },
  {
   "cell_type": "markdown",
   "id": "571027cb",
   "metadata": {},
   "source": []
  }
 ],
 "metadata": {
  "kernelspec": {
   "display_name": "base",
   "language": "python",
   "name": "python3"
  },
  "language_info": {
   "codemirror_mode": {
    "name": "ipython",
    "version": 3
   },
   "file_extension": ".py",
   "mimetype": "text/x-python",
   "name": "python",
   "nbconvert_exporter": "python",
   "pygments_lexer": "ipython3",
   "version": "3.11.5"
  }
 },
 "nbformat": 4,
 "nbformat_minor": 5
}
