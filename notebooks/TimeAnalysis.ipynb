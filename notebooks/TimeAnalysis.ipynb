{
 "cells": [
  {
   "cell_type": "markdown",
   "id": "c839eecd",
   "metadata": {},
   "source": [
    "# Análisis Conjunto Semanas NO-FRACTIONAL\n"
   ]
  },
  {
   "cell_type": "code",
   "execution_count": 150,
   "id": "9fcc194c",
   "metadata": {},
   "outputs": [
    {
     "ename": "ImportError",
     "evalue": "cannot import name 'regular_dates_weeker' from 'utils' (c:\\Users\\Rodrigo Esquivel\\OneDrive - TERRA VITAL\\Rodrigo Esquivel\\Documentos\\CODIGO\\SEASCAPE\\Calendario Fracciones\\calendar_app\\utils.py)",
     "output_type": "error",
     "traceback": [
      "\u001b[1;31m---------------------------------------------------------------------------\u001b[0m",
      "\u001b[1;31mImportError\u001b[0m                               Traceback (most recent call last)",
      "Cell \u001b[1;32mIn[150], line 5\u001b[0m\n\u001b[0;32m      3\u001b[0m sys\u001b[38;5;241m.\u001b[39mpath\u001b[38;5;241m.\u001b[39mappend(os\u001b[38;5;241m.\u001b[39mpath\u001b[38;5;241m.\u001b[39mabspath(\u001b[38;5;124m'\u001b[39m\u001b[38;5;124m..\u001b[39m\u001b[38;5;124m'\u001b[39m))\n\u001b[0;32m      4\u001b[0m \u001b[38;5;28;01mfrom\u001b[39;00m \u001b[38;5;21;01mdatetime\u001b[39;00m \u001b[38;5;28;01mimport\u001b[39;00m datetime\n\u001b[1;32m----> 5\u001b[0m \u001b[38;5;28;01mfrom\u001b[39;00m \u001b[38;5;21;01mutils\u001b[39;00m \u001b[38;5;28;01mimport\u001b[39;00m (\n\u001b[0;32m      6\u001b[0m     extra_week_indicator,\n\u001b[0;32m      7\u001b[0m     main_day_weeker,\n\u001b[0;32m      8\u001b[0m     new_year,\n\u001b[0;32m      9\u001b[0m     christmas,\n\u001b[0;32m     10\u001b[0m     valentines_day,\n\u001b[0;32m     11\u001b[0m     mothers_day,\n\u001b[0;32m     12\u001b[0m     easter_saturday,\n\u001b[0;32m     13\u001b[0m     sabado_santo,\n\u001b[0;32m     14\u001b[0m     work_day,\n\u001b[0;32m     15\u001b[0m     independence_day,\n\u001b[0;32m     16\u001b[0m     constitution_day,\n\u001b[0;32m     17\u001b[0m     benito_juarez_birthday,\n\u001b[0;32m     18\u001b[0m     mexican_revolution_day,\n\u001b[0;32m     19\u001b[0m     regular_dates_weeker\n\u001b[0;32m     20\u001b[0m )\n",
      "\u001b[1;31mImportError\u001b[0m: cannot import name 'regular_dates_weeker' from 'utils' (c:\\Users\\Rodrigo Esquivel\\OneDrive - TERRA VITAL\\Rodrigo Esquivel\\Documentos\\CODIGO\\SEASCAPE\\Calendario Fracciones\\calendar_app\\utils.py)"
     ]
    }
   ],
   "source": [
    "import sys\n",
    "import os\n",
    "sys.path.append(os.path.abspath('..'))\n",
    "from datetime import datetime\n",
    "from utils import (\n",
    "    extra_week_indicator,\n",
    "    main_day_weeker,\n",
    "    new_year,\n",
    "    christmas,\n",
    "    valentines_day,\n",
    "    mothers_day,\n",
    "    easter_saturday,\n",
    "    sabado_santo,\n",
    "    work_day,\n",
    "    independence_day,\n",
    "    constitution_day,\n",
    "    benito_juarez_birthday,\n",
    "    mexican_revolution_day,\n",
    "    regular_dates_weeker\n",
    ")"
   ]
  },
  {
   "cell_type": "code",
   "execution_count": null,
   "id": "dbc6348c",
   "metadata": {},
   "outputs": [],
   "source": [
    "week_days_dic = {\n",
    "    1: \"Martes\",\n",
    "    2: \"Miercoles\",\n",
    "    3: \"Jueves\"\n",
    "    }"
   ]
  },
  {
   "cell_type": "code",
   "execution_count": null,
   "id": "9b60053c",
   "metadata": {},
   "outputs": [
    {
     "name": "stdout",
     "output_type": "stream",
     "text": [
      "[[0], [5], [11], [46], [14], [13], [52]]\n"
     ]
    }
   ],
   "source": [
    "def regular_unfractional_weeks(current_year,weekday_calendar_starts):\n",
    "    \"\"\"\n",
    "    \"\"\"\n",
    "    newyear = new_year(current_year)\n",
    "    constitution = constitution_day(current_year)\n",
    "    benito = benito_juarez_birthday(current_year)\n",
    "    revolution = mexican_revolution_day(current_year)\n",
    "    easter = easter_saturday(current_year)\n",
    "    semana_santa = sabado_santo(current_year)\n",
    "    christ = christmas(current_year)\n",
    "\n",
    "    special_dates = [newyear,constitution,benito,revolution,easter,semana_santa,christ]\n",
    "    calendar = main_day_weeker(current_year, weekday_calendar_starts)\n",
    "    week_index = []\n",
    "\n",
    "    for i in special_dates:\n",
    "        week = calendar[i]\n",
    "        week_index.append(week)\n",
    "    return week_index\n",
    "        \n",
    "print(regular_unfractional_weeks(2024,1))\n",
    "\n"
   ]
  },
  {
   "cell_type": "code",
   "execution_count": null,
   "id": "0e06c66f",
   "metadata": {},
   "outputs": [
    {
     "name": "stdout",
     "output_type": "stream",
     "text": [
      "[[7], [19], [18], [37], [6], [18], [17], [36]]\n"
     ]
    }
   ],
   "source": [
    "def iregular_unfractional_weeks(current_year,weekday_calendar_starts):\n",
    "    \"\"\"\n",
    "    \"\"\"\n",
    "  \n",
    "    valentines = valentines_day(current_year)\n",
    "    mom = mothers_day(current_year)\n",
    "    work = work_day(current_year)\n",
    "    independence = independence_day(current_year)\n",
    "\n",
    "    special_dates = [valentines,mom,work,independence]\n",
    "    calendar = main_day_weeker(current_year, weekday_calendar_starts)\n",
    "    week_index = []\n",
    "\n",
    "    for i in special_dates:\n",
    "        week = calendar[i]\n",
    "        week_index.append(week)\n",
    "    \n",
    "    before_week_index = []\n",
    "    for k in week_index:\n",
    "        before_week_index.append([k[0] - 1])\n",
    "\n",
    "    return week_index + before_week_index\n",
    "        \n",
    "print(iregular_unfractional_weeks(2024,1))\n",
    "\n"
   ]
  },
  {
   "cell_type": "code",
   "execution_count": null,
   "id": "5958e11b",
   "metadata": {},
   "outputs": [
    {
     "name": "stdout",
     "output_type": "stream",
     "text": [
      "[0, 4, 5, 6, 10, 13, 14, 16, 17, 18, 36, 37, 45, 51]\n"
     ]
    }
   ],
   "source": [
    "def gold_weeks(current_year, weekday_calendar_starts):\n",
    "\n",
    "    regular = regular_unfractional_weeks(current_year, weekday_calendar_starts)\n",
    "    irregular = iregular_unfractional_weeks(current_year, weekday_calendar_starts)\n",
    "\n",
    "    gold = []\n",
    "\n",
    "    for i in regular + irregular:\n",
    "        if i not in gold:\n",
    "            gold.append(i)\n",
    "\n",
    "\n",
    "\n",
    "    gold_num = [k[0] for k in gold]\n",
    "    gold_num.sort()\n",
    "    gold = [[k] for k in gold_num]\n",
    "\n",
    "    return gold\n",
    "\n",
    "    \n",
    "\n",
    "\n",
    "print([k[0] for k in gold_weeks(2021,3)])\n"
   ]
  },
  {
   "cell_type": "code",
   "execution_count": null,
   "id": "45625d83",
   "metadata": {},
   "outputs": [
    {
     "name": "stdout",
     "output_type": "stream",
     "text": [
      "36\n",
      "252\n",
      "{datetime.datetime(2026, 1, 7, 0, 0): [0], datetime.datetime(2026, 1, 8, 0, 0): [0], datetime.datetime(2026, 1, 9, 0, 0): [0], datetime.datetime(2026, 1, 10, 0, 0): [0], datetime.datetime(2026, 1, 11, 0, 0): [0], datetime.datetime(2026, 1, 12, 0, 0): [0], datetime.datetime(2026, 1, 13, 0, 0): [0], datetime.datetime(2026, 1, 14, 0, 0): [1], datetime.datetime(2026, 1, 15, 0, 0): [1], datetime.datetime(2026, 1, 16, 0, 0): [1], datetime.datetime(2026, 1, 17, 0, 0): [1], datetime.datetime(2026, 1, 18, 0, 0): [1], datetime.datetime(2026, 1, 19, 0, 0): [1], datetime.datetime(2026, 1, 20, 0, 0): [1], datetime.datetime(2026, 1, 21, 0, 0): [2], datetime.datetime(2026, 1, 22, 0, 0): [2], datetime.datetime(2026, 1, 23, 0, 0): [2], datetime.datetime(2026, 1, 24, 0, 0): [2], datetime.datetime(2026, 1, 25, 0, 0): [2], datetime.datetime(2026, 1, 26, 0, 0): [2], datetime.datetime(2026, 1, 27, 0, 0): [2], datetime.datetime(2026, 2, 18, 0, 0): [3], datetime.datetime(2026, 2, 19, 0, 0): [3], datetime.datetime(2026, 2, 20, 0, 0): [3], datetime.datetime(2026, 2, 21, 0, 0): [3], datetime.datetime(2026, 2, 22, 0, 0): [3], datetime.datetime(2026, 2, 23, 0, 0): [3], datetime.datetime(2026, 2, 24, 0, 0): [3], datetime.datetime(2026, 2, 25, 0, 0): [4], datetime.datetime(2026, 2, 26, 0, 0): [4], datetime.datetime(2026, 2, 27, 0, 0): [4], datetime.datetime(2026, 2, 28, 0, 0): [4], datetime.datetime(2026, 3, 1, 0, 0): [4], datetime.datetime(2026, 3, 2, 0, 0): [4], datetime.datetime(2026, 3, 3, 0, 0): [4], datetime.datetime(2026, 3, 4, 0, 0): [5], datetime.datetime(2026, 3, 5, 0, 0): [5], datetime.datetime(2026, 3, 6, 0, 0): [5], datetime.datetime(2026, 3, 7, 0, 0): [5], datetime.datetime(2026, 3, 8, 0, 0): [5], datetime.datetime(2026, 3, 9, 0, 0): [5], datetime.datetime(2026, 3, 10, 0, 0): [5], datetime.datetime(2026, 3, 18, 0, 0): [6], datetime.datetime(2026, 3, 19, 0, 0): [6], datetime.datetime(2026, 3, 20, 0, 0): [6], datetime.datetime(2026, 3, 21, 0, 0): [6], datetime.datetime(2026, 3, 22, 0, 0): [6], datetime.datetime(2026, 3, 23, 0, 0): [6], datetime.datetime(2026, 3, 24, 0, 0): [6], datetime.datetime(2026, 3, 25, 0, 0): [7], datetime.datetime(2026, 3, 26, 0, 0): [7], datetime.datetime(2026, 3, 27, 0, 0): [7], datetime.datetime(2026, 3, 28, 0, 0): [7], datetime.datetime(2026, 3, 29, 0, 0): [7], datetime.datetime(2026, 3, 30, 0, 0): [7], datetime.datetime(2026, 3, 31, 0, 0): [7], datetime.datetime(2026, 4, 15, 0, 0): [8], datetime.datetime(2026, 4, 16, 0, 0): [8], datetime.datetime(2026, 4, 17, 0, 0): [8], datetime.datetime(2026, 4, 18, 0, 0): [8], datetime.datetime(2026, 4, 19, 0, 0): [8], datetime.datetime(2026, 4, 20, 0, 0): [8], datetime.datetime(2026, 4, 21, 0, 0): [8], datetime.datetime(2026, 5, 13, 0, 0): [0], datetime.datetime(2026, 5, 14, 0, 0): [0], datetime.datetime(2026, 5, 15, 0, 0): [0], datetime.datetime(2026, 5, 16, 0, 0): [0], datetime.datetime(2026, 5, 17, 0, 0): [0], datetime.datetime(2026, 5, 18, 0, 0): [0], datetime.datetime(2026, 5, 19, 0, 0): [0], datetime.datetime(2026, 5, 20, 0, 0): [1], datetime.datetime(2026, 5, 21, 0, 0): [1], datetime.datetime(2026, 5, 22, 0, 0): [1], datetime.datetime(2026, 5, 23, 0, 0): [1], datetime.datetime(2026, 5, 24, 0, 0): [1], datetime.datetime(2026, 5, 25, 0, 0): [1], datetime.datetime(2026, 5, 26, 0, 0): [1], datetime.datetime(2026, 5, 27, 0, 0): [2], datetime.datetime(2026, 5, 28, 0, 0): [2], datetime.datetime(2026, 5, 29, 0, 0): [2], datetime.datetime(2026, 5, 30, 0, 0): [2], datetime.datetime(2026, 5, 31, 0, 0): [2], datetime.datetime(2026, 6, 1, 0, 0): [2], datetime.datetime(2026, 6, 2, 0, 0): [2], datetime.datetime(2026, 6, 3, 0, 0): [3], datetime.datetime(2026, 6, 4, 0, 0): [3], datetime.datetime(2026, 6, 5, 0, 0): [3], datetime.datetime(2026, 6, 6, 0, 0): [3], datetime.datetime(2026, 6, 7, 0, 0): [3], datetime.datetime(2026, 6, 8, 0, 0): [3], datetime.datetime(2026, 6, 9, 0, 0): [3], datetime.datetime(2026, 6, 10, 0, 0): [4], datetime.datetime(2026, 6, 11, 0, 0): [4], datetime.datetime(2026, 6, 12, 0, 0): [4], datetime.datetime(2026, 6, 13, 0, 0): [4], datetime.datetime(2026, 6, 14, 0, 0): [4], datetime.datetime(2026, 6, 15, 0, 0): [4], datetime.datetime(2026, 6, 16, 0, 0): [4], datetime.datetime(2026, 6, 17, 0, 0): [5], datetime.datetime(2026, 6, 18, 0, 0): [5], datetime.datetime(2026, 6, 19, 0, 0): [5], datetime.datetime(2026, 6, 20, 0, 0): [5], datetime.datetime(2026, 6, 21, 0, 0): [5], datetime.datetime(2026, 6, 22, 0, 0): [5], datetime.datetime(2026, 6, 23, 0, 0): [5], datetime.datetime(2026, 6, 24, 0, 0): [6], datetime.datetime(2026, 6, 25, 0, 0): [6], datetime.datetime(2026, 6, 26, 0, 0): [6], datetime.datetime(2026, 6, 27, 0, 0): [6], datetime.datetime(2026, 6, 28, 0, 0): [6], datetime.datetime(2026, 6, 29, 0, 0): [6], datetime.datetime(2026, 6, 30, 0, 0): [6], datetime.datetime(2026, 7, 1, 0, 0): [7], datetime.datetime(2026, 7, 2, 0, 0): [7], datetime.datetime(2026, 7, 3, 0, 0): [7], datetime.datetime(2026, 7, 4, 0, 0): [7], datetime.datetime(2026, 7, 5, 0, 0): [7], datetime.datetime(2026, 7, 6, 0, 0): [7], datetime.datetime(2026, 7, 7, 0, 0): [7], datetime.datetime(2026, 7, 8, 0, 0): [8], datetime.datetime(2026, 7, 9, 0, 0): [8], datetime.datetime(2026, 7, 10, 0, 0): [8], datetime.datetime(2026, 7, 11, 0, 0): [8], datetime.datetime(2026, 7, 12, 0, 0): [8], datetime.datetime(2026, 7, 13, 0, 0): [8], datetime.datetime(2026, 7, 14, 0, 0): [8], datetime.datetime(2026, 7, 15, 0, 0): [0], datetime.datetime(2026, 7, 16, 0, 0): [0], datetime.datetime(2026, 7, 17, 0, 0): [0], datetime.datetime(2026, 7, 18, 0, 0): [0], datetime.datetime(2026, 7, 19, 0, 0): [0], datetime.datetime(2026, 7, 20, 0, 0): [0], datetime.datetime(2026, 7, 21, 0, 0): [0], datetime.datetime(2026, 7, 22, 0, 0): [1], datetime.datetime(2026, 7, 23, 0, 0): [1], datetime.datetime(2026, 7, 24, 0, 0): [1], datetime.datetime(2026, 7, 25, 0, 0): [1], datetime.datetime(2026, 7, 26, 0, 0): [1], datetime.datetime(2026, 7, 27, 0, 0): [1], datetime.datetime(2026, 7, 28, 0, 0): [1], datetime.datetime(2026, 7, 29, 0, 0): [2], datetime.datetime(2026, 7, 30, 0, 0): [2], datetime.datetime(2026, 7, 31, 0, 0): [2], datetime.datetime(2026, 8, 1, 0, 0): [2], datetime.datetime(2026, 8, 2, 0, 0): [2], datetime.datetime(2026, 8, 3, 0, 0): [2], datetime.datetime(2026, 8, 4, 0, 0): [2], datetime.datetime(2026, 8, 5, 0, 0): [3], datetime.datetime(2026, 8, 6, 0, 0): [3], datetime.datetime(2026, 8, 7, 0, 0): [3], datetime.datetime(2026, 8, 8, 0, 0): [3], datetime.datetime(2026, 8, 9, 0, 0): [3], datetime.datetime(2026, 8, 10, 0, 0): [3], datetime.datetime(2026, 8, 11, 0, 0): [3], datetime.datetime(2026, 8, 12, 0, 0): [4], datetime.datetime(2026, 8, 13, 0, 0): [4], datetime.datetime(2026, 8, 14, 0, 0): [4], datetime.datetime(2026, 8, 15, 0, 0): [4], datetime.datetime(2026, 8, 16, 0, 0): [4], datetime.datetime(2026, 8, 17, 0, 0): [4], datetime.datetime(2026, 8, 18, 0, 0): [4], datetime.datetime(2026, 8, 19, 0, 0): [5], datetime.datetime(2026, 8, 20, 0, 0): [5], datetime.datetime(2026, 8, 21, 0, 0): [5], datetime.datetime(2026, 8, 22, 0, 0): [5], datetime.datetime(2026, 8, 23, 0, 0): [5], datetime.datetime(2026, 8, 24, 0, 0): [5], datetime.datetime(2026, 8, 25, 0, 0): [5], datetime.datetime(2026, 8, 26, 0, 0): [6], datetime.datetime(2026, 8, 27, 0, 0): [6], datetime.datetime(2026, 8, 28, 0, 0): [6], datetime.datetime(2026, 8, 29, 0, 0): [6], datetime.datetime(2026, 8, 30, 0, 0): [6], datetime.datetime(2026, 8, 31, 0, 0): [6], datetime.datetime(2026, 9, 1, 0, 0): [6], datetime.datetime(2026, 9, 2, 0, 0): [7], datetime.datetime(2026, 9, 3, 0, 0): [7], datetime.datetime(2026, 9, 4, 0, 0): [7], datetime.datetime(2026, 9, 5, 0, 0): [7], datetime.datetime(2026, 9, 6, 0, 0): [7], datetime.datetime(2026, 9, 7, 0, 0): [7], datetime.datetime(2026, 9, 8, 0, 0): [7], datetime.datetime(2026, 9, 23, 0, 0): [8], datetime.datetime(2026, 9, 24, 0, 0): [8], datetime.datetime(2026, 9, 25, 0, 0): [8], datetime.datetime(2026, 9, 26, 0, 0): [8], datetime.datetime(2026, 9, 27, 0, 0): [8], datetime.datetime(2026, 9, 28, 0, 0): [8], datetime.datetime(2026, 9, 29, 0, 0): [8], datetime.datetime(2026, 9, 30, 0, 0): [0], datetime.datetime(2026, 10, 1, 0, 0): [0], datetime.datetime(2026, 10, 2, 0, 0): [0], datetime.datetime(2026, 10, 3, 0, 0): [0], datetime.datetime(2026, 10, 4, 0, 0): [0], datetime.datetime(2026, 10, 5, 0, 0): [0], datetime.datetime(2026, 10, 6, 0, 0): [0], datetime.datetime(2026, 10, 7, 0, 0): [1], datetime.datetime(2026, 10, 8, 0, 0): [1], datetime.datetime(2026, 10, 9, 0, 0): [1], datetime.datetime(2026, 10, 10, 0, 0): [1], datetime.datetime(2026, 10, 11, 0, 0): [1], datetime.datetime(2026, 10, 12, 0, 0): [1], datetime.datetime(2026, 10, 13, 0, 0): [1], datetime.datetime(2026, 10, 14, 0, 0): [2], datetime.datetime(2026, 10, 15, 0, 0): [2], datetime.datetime(2026, 10, 16, 0, 0): [2], datetime.datetime(2026, 10, 17, 0, 0): [2], datetime.datetime(2026, 10, 18, 0, 0): [2], datetime.datetime(2026, 10, 19, 0, 0): [2], datetime.datetime(2026, 10, 20, 0, 0): [2], datetime.datetime(2026, 10, 21, 0, 0): [3], datetime.datetime(2026, 10, 22, 0, 0): [3], datetime.datetime(2026, 10, 23, 0, 0): [3], datetime.datetime(2026, 10, 24, 0, 0): [3], datetime.datetime(2026, 10, 25, 0, 0): [3], datetime.datetime(2026, 10, 26, 0, 0): [3], datetime.datetime(2026, 10, 27, 0, 0): [3], datetime.datetime(2026, 10, 28, 0, 0): [4], datetime.datetime(2026, 10, 29, 0, 0): [4], datetime.datetime(2026, 10, 30, 0, 0): [4], datetime.datetime(2026, 10, 31, 0, 0): [4], datetime.datetime(2026, 11, 1, 0, 0): [4], datetime.datetime(2026, 11, 2, 0, 0): [4], datetime.datetime(2026, 11, 3, 0, 0): [4], datetime.datetime(2026, 11, 4, 0, 0): [5], datetime.datetime(2026, 11, 5, 0, 0): [5], datetime.datetime(2026, 11, 6, 0, 0): [5], datetime.datetime(2026, 11, 7, 0, 0): [5], datetime.datetime(2026, 11, 8, 0, 0): [5], datetime.datetime(2026, 11, 9, 0, 0): [5], datetime.datetime(2026, 11, 10, 0, 0): [5], datetime.datetime(2026, 11, 18, 0, 0): [6], datetime.datetime(2026, 11, 19, 0, 0): [6], datetime.datetime(2026, 11, 20, 0, 0): [6], datetime.datetime(2026, 11, 21, 0, 0): [6], datetime.datetime(2026, 11, 22, 0, 0): [6], datetime.datetime(2026, 11, 23, 0, 0): [6], datetime.datetime(2026, 11, 24, 0, 0): [6], datetime.datetime(2026, 11, 25, 0, 0): [7], datetime.datetime(2026, 11, 26, 0, 0): [7], datetime.datetime(2026, 11, 27, 0, 0): [7], datetime.datetime(2026, 11, 28, 0, 0): [7], datetime.datetime(2026, 11, 29, 0, 0): [7], datetime.datetime(2026, 11, 30, 0, 0): [7], datetime.datetime(2026, 12, 1, 0, 0): [7], datetime.datetime(2026, 12, 2, 0, 0): [8], datetime.datetime(2026, 12, 3, 0, 0): [8], datetime.datetime(2026, 12, 4, 0, 0): [8], datetime.datetime(2026, 12, 5, 0, 0): [8], datetime.datetime(2026, 12, 6, 0, 0): [8], datetime.datetime(2026, 12, 7, 0, 0): [8], datetime.datetime(2026, 12, 8, 0, 0): [8]}\n"
     ]
    }
   ],
   "source": [
    "current_year = 2026\n",
    "weekday_calendar_starts = 2\n",
    "\n",
    "fractions_quantity = 8\n",
    "weeks_expected_per_year = 365//7\n",
    "weeks_per_fraction = weeks_expected_per_year // fractions_quantity\n",
    "\n",
    "reserved_weeks = weeks_expected_per_year - fractions_quantity * weeks_per_fraction\n",
    "if extra_week_indicator(current_year,weekday_calendar_starts):\n",
    "    reserved_weeks +=1\n",
    "\n",
    "calendar = main_day_weeker(current_year, weekday_calendar_starts)\n",
    "gold = gold_weeks(current_year, weekday_calendar_starts)\n",
    "\n",
    "regular = {k:v for (k,v) in calendar.items() if v not in gold}\n",
    "list = [[i//7] for i in range(len(regular.values()))]\n",
    "regular = dict(zip(regular.keys(),list))\n",
    "bound = len(regular.keys()) // 7\n",
    "max_regular_len = bound // reserved_weeks * reserved_weeks\n",
    "\n",
    "dic = {k: v for k, v in regular.items() if v[0] < max_regular_len}\n",
    "\n",
    "regular = {k:[v[0] % (max_regular_len // reserved_weeks)] for (k,v) in dic.items()}\n",
    "\n",
    "print(max_regular_len)\n",
    "print(len(dic.values()))\n",
    "print(regular)"
   ]
  },
  {
   "cell_type": "code",
   "execution_count": null,
   "id": "3665bfda",
   "metadata": {},
   "outputs": [],
   "source": []
  },
  {
   "cell_type": "markdown",
   "id": "bce58bf5",
   "metadata": {},
   "source": [
    "¿Qué número de semana del año cae semana santa?"
   ]
  },
  {
   "cell_type": "code",
   "execution_count": null,
   "id": "bc9b9646",
   "metadata": {},
   "outputs": [
    {
     "name": "stdout",
     "output_type": "stream",
     "text": [
      "Año |   Martes   | Miercoles  |   Jueves  \n",
      "------------------------------------------\n",
      "2026 |     0      |     0      |     0     \n",
      "2027 |     4      |     4      |     4     \n",
      "2028 |     5      |     5      |     5     \n",
      "2029 |     6      |     6      |     6     \n",
      "2030 |     10     |     10     |     10    \n",
      "2031 |     13     |     13     |     13    \n",
      "2032 |     14     |     14     |     14    \n",
      "2033 |     16     |     16     |     16    \n",
      "2034 |     17     |     17     |     17    \n",
      "2035 |     18     |     18     |     18    \n",
      "2036 |     36     |     36     |     35    \n",
      "2037 |     37     |     37     |     36    \n",
      "2038 |     45     |     45     |     45    \n",
      "2039 |     51     |     51     |     51    \n",
      "2040 |     0      |     0      |     0     \n",
      "2041 |     4      |     4      |     4     \n",
      "2042 |     5      |     5      |     5     \n",
      "2043 |     6      |     6      |     6     \n",
      "2044 |     10     |     10     |     10    \n",
      "2045 |     12     |     12     |     12    \n",
      "2046 |     13     |     13     |     13    \n",
      "2047 |     16     |     16     |     16    \n",
      "2048 |     17     |     17     |     17    \n",
      "2049 |     18     |     18     |     18    \n",
      "2050 |     36     |     36     |     36    \n"
     ]
    }
   ],
   "source": [
    "# Inicializa resultados fuera de la función\n",
    "resultados = {\n",
    "    1: [],\n",
    "    2: [], \n",
    "    3: []\n",
    "}\n",
    "\n",
    "for year in range(2026, 2051):\n",
    "    for i in range(1, 4):\n",
    "        weeks = gold_weeks(year, i)\n",
    "        weeks_num = [k[0] for k in weeks]\n",
    "        for k in weeks_num:\n",
    "            resultados[i].append(k)\n",
    "\n",
    "# Asumiendo que week_days_dic está definido, si no, añade esto:\n",
    "# week_days_dic = {1: \"Lunes\", 2: \"Martes\", 3: \"Miércoles\"}\n",
    "\n",
    "encabezado = \"Año | \" + \" | \".join(f\"{week_days_dic[i]:^10}\" for i in range(1, 4))\n",
    "print(encabezado)\n",
    "print(\"-\" * len(encabezado))\n",
    "\n",
    "for idx, year in enumerate(range(2026, 2051)):\n",
    "    fila = f\"{year} | \" + \" | \".join(f\"{resultados[i][idx]:^10}\" for i in range(1, 4))\n",
    "    print(fila)"
   ]
  },
  {
   "cell_type": "markdown",
   "id": "5095e1bd",
   "metadata": {},
   "source": [
    "Las siguientes funciones calculan algunos puentes festivos en México."
   ]
  },
  {
   "cell_type": "code",
   "execution_count": null,
   "id": "cd7981e6",
   "metadata": {},
   "outputs": [],
   "source": []
  },
  {
   "cell_type": "markdown",
   "id": "c1813ab0",
   "metadata": {},
   "source": []
  },
  {
   "cell_type": "code",
   "execution_count": null,
   "id": "d71fc838",
   "metadata": {},
   "outputs": [],
   "source": []
  },
  {
   "cell_type": "markdown",
   "id": "933b5ffa",
   "metadata": {},
   "source": [
    "Veamos, por día de entrada, en que años hay una semana extra:"
   ]
  },
  {
   "cell_type": "code",
   "execution_count": null,
   "id": "a5e68cde",
   "metadata": {},
   "outputs": [
    {
     "name": "stdout",
     "output_type": "stream",
     "text": [
      "Dia de entrada - Año con semana extra\n",
      "Martes         -         2029\n",
      "Martes         -         2035\n",
      "Martes         -         2040\n",
      "Martes         -         2046\n",
      "Miercoles      -         2030\n",
      "Miercoles      -         2036\n",
      "Miercoles      -         2041\n",
      "Miercoles      -         2047\n",
      "Jueves         -         2031\n",
      "Jueves         -         2036\n",
      "Jueves         -         2042\n",
      "Jueves         -         2048\n"
     ]
    }
   ],
   "source": [
    "print(f'{\"Dia de entrada\"} - {\"Año con semana extra\"}')\n",
    "for day in range(1,4):\n",
    "    for i in range(2026,2051):\n",
    "        if extra_week_indicator(i,day):\n",
    "            print(f'{week_days_dic[day]:<14} - {i:>12}')"
   ]
  },
  {
   "cell_type": "markdown",
   "id": "571027cb",
   "metadata": {},
   "source": []
  }
 ],
 "metadata": {
  "kernelspec": {
   "display_name": "base",
   "language": "python",
   "name": "python3"
  },
  "language_info": {
   "codemirror_mode": {
    "name": "ipython",
    "version": 3
   },
   "file_extension": ".py",
   "mimetype": "text/x-python",
   "name": "python",
   "nbconvert_exporter": "python",
   "pygments_lexer": "ipython3",
   "version": "3.11.5"
  }
 },
 "nbformat": 4,
 "nbformat_minor": 5
}
