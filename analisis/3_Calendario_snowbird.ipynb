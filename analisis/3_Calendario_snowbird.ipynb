{
 "cells": [
  {
   "cell_type": "code",
   "execution_count": 1,
   "id": "d408941b",
   "metadata": {},
   "outputs": [],
   "source": [
    "import sys\n",
    "import os\n",
    "sys.path.append(os.path.abspath('..'))\n",
    "from datetime import datetime,timedelta\n",
    "from utils.snow_sand import (\n",
    "    extra_week_indicator,\n",
    "    main_day_weeker,\n",
    "    gauss_easter\n",
    ")"
   ]
  },
  {
   "cell_type": "code",
   "execution_count": 2,
   "id": "4a2169f2",
   "metadata": {},
   "outputs": [
    {
     "name": "stdout",
     "output_type": "stream",
     "text": [
      "[[0], [0], [0], [0], [0], [0], [0], [0], [0], [0], [0], [0], [0], [0], [1], [1], [1], [1], [1], [1], [1], [1], [1], [1], [1], [1], [1], [1], [2], [2], [2], [2], [2], [2], [2], [2], [2], [2], [2], [2], [2], [2], [3], [3], [3], [3], [3], [3], [3], [3], [3], [3], [3], [3], [3], [3], [0], [0], [0], [0], [0], [0], [0], [0], [0], [0], [0], [0], [0], [0], [1], [1], [1], [1], [1], [1], [1], [1], [1], [1], [1], [1], [1], [1], [2], [2], [2], [2], [2], [2], [2], [2], [2], [2], [2], [2], [2], [2], [3], [3], [3], [3], [3], [3], [3], [3], [3], [3], [3], [3], [3], [3], [0], [0], [0], [0], [0], [0], [0], [0], [0], [0], [0], [0], [0], [0], [1], [1], [1], [1], [1], [1], [1], [1], [1], [1], [1], [1], [1], [1], [2], [2], [2], [2], [2], [2], [2], [2], [2], [2], [2], [2], [2], [2], [3], [3], [3], [3], [3], [3], [3], [3], [3], [3], [3], [3], [3], [3]]\n"
     ]
    }
   ],
   "source": [
    "lista = [[i] for _ in range(3) for i in range(4) for __ in range(14)]\n",
    "print(lista)"
   ]
  },
  {
   "cell_type": "code",
   "execution_count": null,
   "id": "3d471a97",
   "metadata": {},
   "outputs": [
    {
     "ename": "NameError",
     "evalue": "name 'cd' is not defined",
     "output_type": "error",
     "traceback": [
      "\u001b[31m---------------------------------------------------------------------------\u001b[39m",
      "\u001b[31mNameError\u001b[39m                                 Traceback (most recent call last)",
      "\u001b[36mCell\u001b[39m\u001b[36m \u001b[39m\u001b[32mIn[3]\u001b[39m\u001b[32m, line 6\u001b[39m\n\u001b[32m      4\u001b[39m     reserved_weeks += \u001b[32m1\u001b[39m\n\u001b[32m      5\u001b[39m     maintenance_list.append([\u001b[32m52\u001b[39m])\n\u001b[32m----> \u001b[39m\u001b[32m6\u001b[39m calendar = \u001b[43mcd\u001b[49m.main_day_weeker(\u001b[32m2026\u001b[39m, \u001b[32m1\u001b[39m)\n\u001b[32m      8\u001b[39m regular = {k:v \u001b[38;5;28;01mfor\u001b[39;00m (k,v) \u001b[38;5;129;01min\u001b[39;00m calendar.items() \u001b[38;5;28;01mif\u001b[39;00m v \u001b[38;5;129;01min\u001b[39;00m maintenance_list}\n\u001b[32m      9\u001b[39m \u001b[38;5;28mlist\u001b[39m = [[i//\u001b[32m7\u001b[39m] \u001b[38;5;28;01mfor\u001b[39;00m i \u001b[38;5;129;01min\u001b[39;00m \u001b[38;5;28mrange\u001b[39m(\u001b[38;5;28mlen\u001b[39m(regular.values()))]\n",
      "\u001b[31mNameError\u001b[39m: name 'cd' is not defined"
     ]
    }
   ],
   "source": [
    "reserved_weeks = 4\n",
    "maintenance_list = [[8],[25],[34],[47]]\n",
    "if extra_week_indicator(2026,1):\n",
    "    reserved_weeks += 1\n",
    "    maintenance_list.append([52])\n",
    "calendar = main_day_weeker(2026, 1)\n",
    "\n",
    "regular = {k:v for (k,v) in calendar.items() if v in maintenance_list}\n",
    "list = [[i//7] for i in range(len(regular.values()))]\n",
    "regular = dict(zip(regular.keys(),list))\n",
    "bound = len(regular.keys()) // 7\n",
    "max_regular_len = bound // reserved_weeks * reserved_weeks\n",
    "dic = {k: v for k, v in regular.items() if v[0] < max_regular_len}\n",
    "\n",
    "dic = {k:[(v[0] + (2026 % 8)) % (max_regular_len // reserved_weeks)] for (k,v) in dic.items()}\n",
    "\n",
    "print(dic.keys(), dic.values())"
   ]
  }
 ],
 "metadata": {
  "kernelspec": {
   "display_name": "venv",
   "language": "python",
   "name": "python3"
  },
  "language_info": {
   "codemirror_mode": {
    "name": "ipython",
    "version": 3
   },
   "file_extension": ".py",
   "mimetype": "text/x-python",
   "name": "python",
   "nbconvert_exporter": "python",
   "pygments_lexer": "ipython3",
   "version": "3.13.5"
  }
 },
 "nbformat": 4,
 "nbformat_minor": 5
}
